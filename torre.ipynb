{
  "nbformat": 4,
  "nbformat_minor": 0,
  "metadata": {
    "colab": {
      "name": "torre.ipynb",
      "provenance": [],
      "collapsed_sections": [],
      "mount_file_id": "1U4NJDOWcEbNQnpMIt5n2YVDN1nFj0Zvl",
      "authorship_tag": "ABX9TyNPp9nkef2vD6EWzRYg80Up",
      "include_colab_link": true
    },
    "kernelspec": {
      "display_name": "Python 3",
      "name": "python3"
    },
    "widgets": {
      "application/vnd.jupyter.widget-state+json": {
        "14b55cc20f174e8fb2464939f752c408": {
          "model_module": "@jupyter-widgets/controls",
          "model_name": "FloatSliderModel",
          "state": {
            "_view_name": "FloatSliderView",
            "style": "IPY_MODEL_61da12020a0d44c4b3e39147a93ad322",
            "_dom_classes": [],
            "description": "The.Falcon.and.The.Winter.Soldier.S01E06.Episode.6.1080p.DSNP.WEB-DL.DDP5.1.H.264-EVO[eztv.re].mkv 1402.206 kB/s downloading",
            "step": 0.01,
            "_model_name": "FloatSliderModel",
            "orientation": "horizontal",
            "max": 100,
            "_view_module": "@jupyter-widgets/controls",
            "_model_module_version": "1.5.0",
            "value": 99.99939799308777,
            "_view_count": null,
            "disabled": true,
            "_view_module_version": "1.5.0",
            "min": 0,
            "continuous_update": true,
            "readout_format": ".2f",
            "description_tooltip": null,
            "readout": true,
            "_model_module": "@jupyter-widgets/controls",
            "layout": "IPY_MODEL_4637d56d39e547de8183784286076cf1"
          }
        },
        "61da12020a0d44c4b3e39147a93ad322": {
          "model_module": "@jupyter-widgets/controls",
          "model_name": "SliderStyleModel",
          "state": {
            "_view_name": "StyleView",
            "handle_color": null,
            "_model_name": "SliderStyleModel",
            "description_width": "initial",
            "_view_module": "@jupyter-widgets/base",
            "_model_module_version": "1.5.0",
            "_view_count": null,
            "_view_module_version": "1.2.0",
            "_model_module": "@jupyter-widgets/controls"
          }
        },
        "4637d56d39e547de8183784286076cf1": {
          "model_module": "@jupyter-widgets/base",
          "model_name": "LayoutModel",
          "state": {
            "_view_name": "LayoutView",
            "grid_template_rows": null,
            "right": null,
            "justify_content": null,
            "_view_module": "@jupyter-widgets/base",
            "overflow": null,
            "_model_module_version": "1.2.0",
            "_view_count": null,
            "flex_flow": null,
            "width": "auto",
            "min_width": null,
            "border": null,
            "align_items": null,
            "bottom": null,
            "_model_module": "@jupyter-widgets/base",
            "top": null,
            "grid_column": null,
            "overflow_y": null,
            "overflow_x": null,
            "grid_auto_flow": null,
            "grid_area": null,
            "grid_template_columns": null,
            "flex": null,
            "_model_name": "LayoutModel",
            "justify_items": null,
            "grid_row": null,
            "max_height": null,
            "align_content": null,
            "visibility": null,
            "align_self": null,
            "height": null,
            "min_height": null,
            "padding": null,
            "grid_auto_rows": null,
            "grid_gap": null,
            "max_width": null,
            "order": null,
            "_view_module_version": "1.2.0",
            "grid_template_areas": null,
            "object_position": null,
            "object_fit": null,
            "grid_auto_columns": null,
            "margin": null,
            "display": null,
            "left": null
          }
        }
      }
    }
  },
  "cells": [
    {
      "cell_type": "markdown",
      "metadata": {
        "id": "view-in-github",
        "colab_type": "text"
      },
      "source": [
        "<a href=\"https://colab.research.google.com/github/helidenial/drt/blob/main/torre.ipynb\" target=\"_parent\"><img src=\"https://colab.research.google.com/assets/colab-badge.svg\" alt=\"Open In Colab\"/></a>"
      ]
    },
    {
      "cell_type": "code",
      "metadata": {
        "colab": {
          "base_uri": "https://localhost:8080/"
        },
        "id": "0Hw_FYVY9tnq",
        "outputId": "d8fdf0db-2e0c-45d5-84c9-51534eab0260"
      },
      "source": [
        "!apt install python3-pip >/etc/null 2>&1 ; echo \"|\"\n",
        "!python -m pip install --upgrade pip setuptools wheel >/etc/null 2>&1 ; echo \"||\"\n",
        "!python -m pip install lbry-libtorrent >/etc/null 2>&1 ; echo \"|||\"\n",
        "!apt install python3-libtorrent >/etc/null 2>&1 ; echo \"||||\"\n",
        "\n",
        "import time\n",
        "from IPython.display import display\n",
        "import ipywidgets as widgets\n",
        "import libtorrent as lt\n",
        "import requests\n",
        "from google.colab import drive\n",
        "import requests as re\n",
        "from bs4 import BeautifulSoup as Soup\n",
        "\n",
        "drive.mount(\"/content/drive\")\n",
        "\n",
        "ses = lt.session()\n",
        "ses.listen_on(6881, 6891)\n",
        "downloads = []\n",
        "\n",
        "def sendMessage(bot_message):\n",
        "    token = '1176657042:AAEGwetBc8y3jS6Oui4nIBd2w5NhGU6lmgk'\n",
        "    chatID = '701156270'\n",
        "    send_text = 'https://api.telegram.org/bot' + token + '/sendMessage?chat_id=' + chatID + '&parse_mode=Markdown&text=' + bot_message\n",
        "    res = requests.get(send_text)\n",
        "    return res\n",
        "\n",
        "def getYifyFor(movie_name):\n",
        "  base_link = \"https://yts.mx/movies/\"\n",
        "  movie = movie_name.replace(' ','-').lower()\n",
        "  res = re.get(base_link+movie)\n",
        "\n",
        "  soup = Soup(res.content)\n",
        "\n",
        "  link_a = soup.find('div',{\"class\":\"bottom-info\"}).findAll('a')\n",
        "  for i,a in enumerate(link_a):\n",
        "    try:\n",
        "      print(f'[{i}]',a['title'],a['href'])\n",
        "    except:\n",
        "      pass\n",
        "\n",
        "  inp = input(\"Enter which link to download\")\n",
        "  \n",
        "  return link_a[int(inp)]['href']\n",
        "\n",
        "def downloadFromYify(file_link):\n",
        "  !wget $file_link\n",
        "  file_name = file_link.split('/')[-1]\n",
        "  params = {\n",
        "    \"save_path\": \"/content/drive/Shareddrives/tdHackgence/Torrent\",\n",
        "    \"ti\": lt.torrent_info(file_name),\n",
        "  }\n",
        "  downloads.append(ses.add_torrent(params))\n",
        " \n",
        "location=\"\"\n",
        "\n",
        "def show_bars():\n",
        "  name =''\n",
        "  state_str = [\n",
        "      \"queued\",\n",
        "      \"checking\",\n",
        "      \"downloading metadata\",\n",
        "      \"downloading\",\n",
        "      \"finished\",\n",
        "      \"seeding\",\n",
        "      \"allocating\",\n",
        "      \"checking fastresume\",\n",
        "  ]\n",
        "  \n",
        "  layout = widgets.Layout(width=\"auto\")\n",
        "  style = {\"description_width\": \"initial\"}\n",
        "  download_bars = [\n",
        "      widgets.FloatSlider(\n",
        "          step=0.01, disabled=True, layout=layout, style=style\n",
        "      )\n",
        "      for _ in downloads\n",
        "  ]\n",
        "  display(*download_bars)\n",
        "  \n",
        "  while downloads:\n",
        "      next_shift = 0\n",
        "      for index, download in enumerate(downloads[:]):\n",
        "          bar = download_bars[index + next_shift]\n",
        "          if not download.is_seed():\n",
        "              s = download.status()\n",
        "  \n",
        "              bar.description = \" \".join(\n",
        "                  [\n",
        "                      download.name(),\n",
        "                      str(s.download_rate / 1000),\n",
        "                      \"kB/s\",\n",
        "                      state_str[s.state],\n",
        "                  ]\n",
        "              )\n",
        "              bar.value = s.progress * 100\n",
        "          else:\n",
        "              next_shift -= 1\n",
        "              ses.remove_torrent(download)\n",
        "              downloads.remove(download)\n",
        "              bar.close() # Seems to be not working in Colab (see https://github.com/googlecolab/colabtools/issues/726#issue-486731758)\n",
        "              download_bars.remove(bar)\n",
        "              name = download.name()\n",
        "              print(download.name(), \"complete\")\n",
        "      time.sleep(1)\n",
        "\n",
        "\n",
        "  sendMessage('Uploaded \\n\\n'+name+'\\n\\nTo ' + location )\n",
        "  print('Done uploading '+name+' To your google drive')\n",
        "\n",
        "\n",
        "import os\n",
        "home_path = \"/content/drive/Shareddrives/tdHackgence/Torrent/Subtitles\"\n",
        "\n",
        "def getSubsFor(sub_link):  \n",
        "  temp_path = os.getcwd()\n",
        "  os.chdir(home_path)\n",
        "  res = re.get(sub_link)\n",
        "  sub_link\n",
        "  sou = Soup(res.content)\n",
        "  movie=\"train-to-busan\"\n",
        "  res = sou.find(\"span\",{\"class\":\"flag flag-gb\"})\n",
        "  a_href = res.parent.parent.find('a')\n",
        "\n",
        "  final_link=\"https://yifysubtitles.org\"+a_href['href'].replace('subtitles','subtitle')+\".zip\"\n",
        "  file_name = final_link.split('/')[-1]\n",
        "  ! wget $final_link\n",
        "  ! unzip $file_name\n",
        "  os.chdir(temp_path)\n",
        "\n",
        "def magnetDownloads(magnet_link):\n",
        "  params = {\"save_path\": \"/content/drive/Shareddrives/tdHackgence/Torrent\"}\n",
        "  downloads.append(lt.add_magnet_uri(ses, magnet_link, params))\n",
        "  print(f\"Appended {magnet_link} to downloads\")\n"
      ],
      "execution_count": null,
      "outputs": [
        {
          "output_type": "stream",
          "text": [
            "|\n",
            "||\n",
            "|||\n",
            "||||\n",
            "Drive already mounted at /content/drive; to attempt to forcibly remount, call drive.mount(\"/content/drive\", force_remount=True).\n"
          ],
          "name": "stdout"
        }
      ]
    },
    {
      "cell_type": "code",
      "metadata": {
        "id": "wigCT1fkuF0v"
      },
      "source": [
        " ''' \n",
        "  All the functions so far : \n",
        "  \n",
        "   sendMessage(msg) -> send msg to telegram. \n",
        "   getYifyFor(movie_name) -> get_links \n",
        "   downloadFromYify(file_link) -> Download from yify \n",
        "   magnetDownloads(magnet_link) -> Downloads from the magnet link \n",
        "   show_bars() -> Shows download bars \n",
        "    \n",
        "   '''"
      ],
      "execution_count": null,
      "outputs": []
    },
    {
      "cell_type": "code",
      "metadata": {
        "id": "5bRswgu094ZR",
        "colab": {
          "base_uri": "https://localhost:8080/"
        },
        "outputId": "95b4517f-9fb0-456b-8f81-59737e8108d3"
      },
      "source": [
        "params = {\"save_path\": \"/content/drive/Shareddrives/tdHackgence/Torrent\"}\n",
        " \n",
        "while True:\n",
        "    magnet_link =''\n",
        "    magnet_link = input(\"Enter Magnet Link Or Type Exit: \")\n",
        "    if magnet_link.lower() == \"exit\":\n",
        "        break\n",
        "    downloads.append(\n",
        "        lt.add_magnet_uri(ses, magnet_link, params)\n",
        "    )\n",
        " \n",
        "location = \"Shareddrives/tdHackgence/Torrent\""
      ],
      "execution_count": null,
      "outputs": [
        {
          "output_type": "stream",
          "text": [
            "Enter Magnet Link Or Type Exit: exit\n"
          ],
          "name": "stdout"
        }
      ]
    },
    {
      "cell_type": "code",
      "metadata": {
        "id": "zZUBjIu0dm1I",
        "colab": {
          "base_uri": "https://localhost:8080/"
        },
        "outputId": "061afa30-d262-40ce-f183-176084db38bb"
      },
      "source": [
        "magnet = 'magnet:?xt=urn:btih:9941695f098ca5655bedbd8cbbcdc45f3c579578&dn=The.Falcon.and.The.Winter.Soldier.S01E06.Episode.6.1080p.DSNP.WEB-DL.DDP5.1.H.264-EVO%5Beztv%5D&tr=udp://tracker.coppersurfer.tk:80&tr=udp://glotorrents.pw:6969/announce&tr=udp://tracker.leechers-paradise.org:6969&tr=udp://tracker.opentrackr.org:1337/announce&tr=udp://exodus.desync.com:6969'\n",
        "magnetDownloads(magnet)"
      ],
      "execution_count": null,
      "outputs": [
        {
          "output_type": "stream",
          "text": [
            "Appended magnet:?xt=urn:btih:9941695f098ca5655bedbd8cbbcdc45f3c579578&dn=The.Falcon.and.The.Winter.Soldier.S01E06.Episode.6.1080p.DSNP.WEB-DL.DDP5.1.H.264-EVO%5Beztv%5D&tr=udp://tracker.coppersurfer.tk:80&tr=udp://glotorrents.pw:6969/announce&tr=udp://tracker.leechers-paradise.org:6969&tr=udp://tracker.opentrackr.org:1337/announce&tr=udp://exodus.desync.com:6969 to downloads\n"
          ],
          "name": "stdout"
        }
      ]
    },
    {
      "cell_type": "code",
      "metadata": {
        "id": "_po5q0UdMREo"
      },
      "source": [
        "\n",
        "'''\n",
        "\n",
        "var id = setInterval(()=>{console.log(\"working\");document.querySelector(\"#top-toolbar > colab-connect-button\").shadowRoot.querySelector(\"#connect\").click();},3*60*1000);\n",
        "var id2 = setInterval(()=>{console.log(\"x\");document.querySelector(\"body > div.notebook-vertical > div.notebook-horizontal > div.layout.vertical.grow > colab-tab-layout-container > colab-tab-pane > colab-resizer > div.layout.vertical.grow > div > paper-tabs > paper-tab > paper-icon-button\").click();},0.5*60*1000)\n",
        "\n",
        "var btn = document.querySelector(\"#ok\") \n",
        "if (btn != null ) document.querySelector(\"#ok\").click()\n",
        "\n",
        "'''"
      ],
      "execution_count": null,
      "outputs": []
    },
    {
      "cell_type": "code",
      "metadata": {
        "id": "S6XyQOEFgqci",
        "colab": {
          "base_uri": "https://localhost:8080/"
        },
        "outputId": "37725d3b-4165-49a5-f4b7-480d8246b582"
      },
      "source": [
        "params = {\"save_path\": \"/content/drive/Shareddrives/tdHackgence/Torrent/AOT-Manga\"}\n",
        " \n",
        "while True:\n",
        "    magnet_link =''\n",
        "    magnet_link = input(\"Enter Magnet Link Or Type Exit: \")\n",
        "    if magnet_link.lower() == \"exit\":\n",
        "        break\n",
        "    downloads.append(\n",
        "        lt.add_magnet_uri(ses, magnet_link, params)\n",
        "    )\n",
        "\n",
        "location = \"Shareddrives/tdHackgence/Torrent\""
      ],
      "execution_count": null,
      "outputs": [
        {
          "output_type": "stream",
          "text": [
            "Enter Magnet Link Or Type Exit: exit\n"
          ],
          "name": "stdout"
        }
      ]
    },
    {
      "cell_type": "code",
      "metadata": {
        "id": "xpJ-p_7btSxi"
      },
      "source": [
        ""
      ],
      "execution_count": null,
      "outputs": []
    },
    {
      "cell_type": "code",
      "metadata": {
        "id": "r7xLioGqma5x",
        "colab": {
          "base_uri": "https://localhost:8080/",
          "height": 154
        },
        "outputId": "7fd64513-b65e-47bd-e096-b7cccaca25fc"
      },
      "source": [
        "getYifyFor(input(\"Enter the movie name with year of release:\"))"
      ],
      "execution_count": null,
      "outputs": [
        {
          "output_type": "stream",
          "text": [
            "Enter the movie name with year of release:Anand 1971\n",
            "[0] Rotten Tomatoes Audience - Upright https://www.rottentomatoes.com/m/anand\n",
            "[1] IMDb Rating https://www.imdb.com/title/tt0066763/\n",
            "[3] Download Anand 720p.BluRay Torrent https://yts.mx/torrent/download/6B88C9F3B9640381B7C95329BEB42938B3489279\n",
            "[4] Download Anand 1080p.BluRay Torrent https://yts.mx/torrent/download/712358FA136397C725740F2A61488AC827EC4A33\n",
            "[5] Download subtitles for Anand 1080p https://yifysubtitles.org/movie-imdb/tt0066763\n",
            "Enter which link to download4\n"
          ],
          "name": "stdout"
        },
        {
          "output_type": "execute_result",
          "data": {
            "application/vnd.google.colaboratory.intrinsic+json": {
              "type": "string"
            },
            "text/plain": [
              "'https://yts.mx/torrent/download/712358FA136397C725740F2A61488AC827EC4A33'"
            ]
          },
          "metadata": {
            "tags": []
          },
          "execution_count": 3
        }
      ]
    },
    {
      "cell_type": "code",
      "metadata": {
        "id": "th2l6QE8oki8",
        "colab": {
          "base_uri": "https://localhost:8080/",
          "height": 51,
          "referenced_widgets": [
            "14b55cc20f174e8fb2464939f752c408",
            "61da12020a0d44c4b3e39147a93ad322",
            "4637d56d39e547de8183784286076cf1"
          ]
        },
        "outputId": "9b50552e-4b56-460c-8b53-91a67b5c43f2"
      },
      "source": [
        "show_bars()\n",
        "downloads=[]"
      ],
      "execution_count": null,
      "outputs": [
        {
          "output_type": "display_data",
          "data": {
            "application/vnd.jupyter.widget-view+json": {
              "model_id": "14b55cc20f174e8fb2464939f752c408",
              "version_minor": 0,
              "version_major": 2
            },
            "text/plain": [
              "FloatSlider(value=0.0, disabled=True, layout=Layout(width='auto'), step=0.01, style=SliderStyle(description_wi…"
            ]
          },
          "metadata": {
            "tags": []
          }
        },
        {
          "output_type": "stream",
          "text": [
            "The.Falcon.and.The.Winter.Soldier.S01E06.Episode.6.1080p.DSNP.WEB-DL.DDP5.1.H.264-EVO[eztv.re].mkv complete\n",
            "Done uploading The.Falcon.and.The.Winter.Soldier.S01E06.Episode.6.1080p.DSNP.WEB-DL.DDP5.1.H.264-EVO[eztv.re].mkv To your google drive\n"
          ],
          "name": "stdout"
        }
      ]
    },
    {
      "cell_type": "code",
      "metadata": {
        "id": "OedU8-iFEYi0",
        "colab": {
          "base_uri": "https://localhost:8080/"
        },
        "outputId": "caadc4b3-1a74-42ef-f4f9-b8ff4370903a"
      },
      "source": [
        "!wget https://yts.mx/torrent/download/712358FA136397C725740F2A61488AC827EC4A33\n"
      ],
      "execution_count": null,
      "outputs": [
        {
          "output_type": "stream",
          "text": [
            "--2021-05-12 08:35:23--  https://yts.mx/torrent/download/712358FA136397C725740F2A61488AC827EC4A33\n",
            "Resolving yts.mx (yts.mx)... 172.67.72.176, 104.26.6.75, 104.26.7.75\n",
            "Connecting to yts.mx (yts.mx)|172.67.72.176|:443... connected.\n",
            "HTTP request sent, awaiting response... 200 OK\n",
            "Length: unspecified [application/octet-stream]\n",
            "Saving to: ‘712358FA136397C725740F2A61488AC827EC4A33’\n",
            "\n",
            "712358FA136397C7257     [  <=>               ]  76.73K   223KB/s    in 0.3s    \n",
            "\n",
            "2021-05-12 08:35:24 (223 KB/s) - ‘712358FA136397C725740F2A61488AC827EC4A33’ saved [78570]\n",
            "\n"
          ],
          "name": "stdout"
        }
      ]
    },
    {
      "cell_type": "code",
      "metadata": {
        "id": "gbLA8DYhevNV"
      },
      "source": [
        "getSubsFor(getYifyFor(input(\"Enter movie name with year of release \")))"
      ],
      "execution_count": null,
      "outputs": []
    }
  ]
}