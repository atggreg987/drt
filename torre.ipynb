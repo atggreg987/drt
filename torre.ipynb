{
  "nbformat": 4,
  "nbformat_minor": 0,
  "metadata": {
    "colab": {
      "name": "Copy of torre.ipynb",
      "provenance": [],
      "collapsed_sections": [],
      "include_colab_link": true
    },
    "kernelspec": {
      "display_name": "Python 3",
      "name": "python3"
    }
  },
  "cells": [
    {
      "cell_type": "markdown",
      "metadata": {
        "id": "view-in-github",
        "colab_type": "text"
      },
      "source": [
        "<a href=\"https://colab.research.google.com/github/helidenial/drt/blob/main/torre.ipynb\" target=\"_parent\"><img src=\"https://colab.research.google.com/assets/colab-badge.svg\" alt=\"Open In Colab\"/></a>"
      ]
    },
    {
      "cell_type": "code",
      "metadata": {
        "colab": {
          "base_uri": "https://localhost:8080/",
          "height": 514
        },
        "id": "0Hw_FYVY9tnq",
        "outputId": "2e9aef11-4a10-4f6f-b511-e5deba909898"
      },
      "source": [
        "!apt install python3-pip >/etc/null 2>&1 ; echo \"|\"\n",
        "!python -m pip install --upgrade pip setuptools wheel >/etc/null 2>&1 ; echo \"||\"\n",
        "!python -m pip install lbry-libtorrent >/etc/null 2>&1 ; echo \"|||\"\n",
        "!apt install python3-libtorrent >/etc/null 2>&1 ; echo \"||||\"\n",
        "\n",
        "import time\n",
        "from IPython.display import display\n",
        "import ipywidgets as widgets\n",
        "import libtorrent as lt\n",
        "import requests\n",
        "from google.colab import drive\n",
        "import requests as re\n",
        "from bs4 import BeautifulSoup as Soup\n",
        "\n",
        "drive.mount(\"/content/drive\")\n",
        "\n",
        "ses = lt.session()\n",
        "ses.listen_on(6881, 6891)\n",
        "downloads = []\n",
        "\n",
        "def sendMessage(bot_message):\n",
        "    token = '1176657042:AAEGwetBc8y3jS6Oui4nIBd2w5NhGU6lmgk'\n",
        "    chatID = '701156270'\n",
        "    send_text = 'https://api.telegram.org/bot' + token + '/sendMessage?chat_id=' + chatID + '&parse_mode=Markdown&text=' + bot_message\n",
        "    res = requests.get(send_text)\n",
        "    return res\n",
        "\n",
        "def getYifyFor(movie_name):\n",
        "  base_link = \"https://yts.mx/movies/\"\n",
        "  movie = movie_name.replace(' ','-').lower()\n",
        "  res = re.get(base_link+movie)\n",
        "\n",
        "  soup = Soup(res.content)\n",
        "\n",
        "  link_a = soup.find('div',{\"class\":\"bottom-info\"}).findAll('a')\n",
        "  for i,a in enumerate(link_a):\n",
        "    try:\n",
        "      print(f'[{i}]',a['title'],a['href'])\n",
        "    except:\n",
        "      pass\n",
        "\n",
        "  inp = input(\"Enter which link to download\")\n",
        "  \n",
        "  return link_a[int(inp)]['href']\n",
        "\n",
        "def downloadFromYify(file_link):\n",
        "  !wget $file_link\n",
        "  file_name = file_link.split('/')[-1]\n",
        "  params = {\n",
        "    \"save_path\": \"/content/drive/Shareddrives/tdHackgence/Torrent\",\n",
        "    \"ti\": lt.torrent_info(file_name),\n",
        "  }\n",
        "  downloads.append(ses.add_torrent(params))\n",
        " \n",
        "location=\"\"\n",
        "\n",
        "def show_bars():\n",
        "  name =''\n",
        "  state_str = [\n",
        "      \"queued\",\n",
        "      \"checking\",\n",
        "      \"downloading metadata\",\n",
        "      \"downloading\",\n",
        "      \"finished\",\n",
        "      \"seeding\",\n",
        "      \"allocating\",\n",
        "      \"checking fastresume\",\n",
        "  ]\n",
        "  \n",
        "  layout = widgets.Layout(width=\"auto\")\n",
        "  style = {\"description_width\": \"initial\"}\n",
        "  download_bars = [\n",
        "      widgets.FloatSlider(\n",
        "          step=0.01, disabled=True, layout=layout, style=style\n",
        "      )\n",
        "      for _ in downloads\n",
        "  ]\n",
        "  display(*download_bars)\n",
        "  \n",
        "  while downloads:\n",
        "      next_shift = 0\n",
        "      for index, download in enumerate(downloads[:]):\n",
        "          bar = download_bars[index + next_shift]\n",
        "          if not download.is_seed():\n",
        "              s = download.status()\n",
        "  \n",
        "              bar.description = \" \".join(\n",
        "                  [\n",
        "                      download.name(),\n",
        "                      str(s.download_rate / 1000),\n",
        "                      \"kB/s\",\n",
        "                      state_str[s.state],\n",
        "                  ]\n",
        "              )\n",
        "              bar.value = s.progress * 100\n",
        "          else:\n",
        "              next_shift -= 1\n",
        "              ses.remove_torrent(download)\n",
        "              downloads.remove(download)\n",
        "              bar.close() # Seems to be not working in Colab (see https://github.com/googlecolab/colabtools/issues/726#issue-486731758)\n",
        "              download_bars.remove(bar)\n",
        "              name = download.name()\n",
        "              print(download.name(), \"complete\")\n",
        "      time.sleep(1)\n",
        "\n",
        "\n",
        "  sendMessage('Uploaded \\n\\n'+name+'\\n\\nTo ' + location )\n",
        "  print('Done uploading '+name+' To your google drive')\n",
        "\n",
        "\n",
        "import os\n",
        "home_path = \"/content/drive/Shareddrives/tdHackgence/Torrent/Subtitles\"\n",
        "\n",
        "def getSubsFor(sub_link):  \n",
        "  temp_path = os.getcwd()\n",
        "  os.chdir(home_path)\n",
        "  res = re.get(sub_link)\n",
        "  sub_link\n",
        "  sou = Soup(res.content)\n",
        "  movie=\"train-to-busan\"\n",
        "  res = sou.find(\"span\",{\"class\":\"flag flag-gb\"})\n",
        "  a_href = res.parent.parent.find('a')\n",
        "\n",
        "  final_link=\"https://yifysubtitles.org\"+a_href['href'].replace('subtitles','subtitle')+\".zip\"\n",
        "  file_name = final_link.split('/')[-1]\n",
        "  ! wget $final_link\n",
        "  ! unzip $file_name\n",
        "  os.chdir(temp_path)\n",
        "\n",
        "def magnetDownloads(magnet_link):\n",
        "  params = {\"save_path\": \"/content/drive/Shareddrives/tdHackgence/Torrent\"}\n",
        "  downloads.append(lt.add_magnet_uri(ses, magnet_link, params))\n",
        "  print(f\"Appended {magnet_link} to downloads\")\n"
      ],
      "execution_count": 1,
      "outputs": [
        {
          "output_type": "stream",
          "text": [
            "|\n",
            "||\n",
            "|||\n",
            "||||\n"
          ],
          "name": "stdout"
        },
        {
          "output_type": "stream",
          "text": [
            "Go to this URL in a browser: https://accounts.google.com/o/oauth2/auth?client_id=947318989803-6bn6qk8qdgf4n4g3pfee6491hc0brc4i.apps.googleusercontent.com&redirect_uri=urn%3aietf%3awg%3aoauth%3a2.0%3aoob&scope=email%20https%3a%2f%2fwww.googleapis.com%2fauth%2fdocs.test%20https%3a%2f%2fwww.googleapis.com%2fauth%2fdrive%20https%3a%2f%2fwww.googleapis.com%2fauth%2fdrive.photos.readonly%20https%3a%2f%2fwww.googleapis.com%2fauth%2fpeopleapi.readonly%20https%3a%2f%2fwww.googleapis.com%2fauth%2fdrive.activity.readonly%20https%3a%2f%2fwww.googleapis.com%2fauth%2fexperimentsandconfigs%20https%3a%2f%2fwww.googleapis.com%2fauth%2fphotos.native&response_type=code\n",
            "\n",
            "Enter your authorization code:\n",
            "z\n"
          ],
          "name": "stdout"
        },
        {
          "output_type": "error",
          "ename": "ValueError",
          "evalue": "ignored",
          "traceback": [
            "\u001b[0;31m---------------------------------------------------------------------------\u001b[0m",
            "\u001b[0;31mValueError\u001b[0m                                Traceback (most recent call last)",
            "\u001b[0;32m<ipython-input-1-270f2d1d4916>\u001b[0m in \u001b[0;36m<module>\u001b[0;34m()\u001b[0m\n\u001b[1;32m     13\u001b[0m \u001b[0;32mfrom\u001b[0m \u001b[0mbs4\u001b[0m \u001b[0;32mimport\u001b[0m \u001b[0mBeautifulSoup\u001b[0m \u001b[0;32mas\u001b[0m \u001b[0mSoup\u001b[0m\u001b[0;34m\u001b[0m\u001b[0;34m\u001b[0m\u001b[0m\n\u001b[1;32m     14\u001b[0m \u001b[0;34m\u001b[0m\u001b[0m\n\u001b[0;32m---> 15\u001b[0;31m \u001b[0mdrive\u001b[0m\u001b[0;34m.\u001b[0m\u001b[0mmount\u001b[0m\u001b[0;34m(\u001b[0m\u001b[0;34m\"/content/drive\"\u001b[0m\u001b[0;34m)\u001b[0m\u001b[0;34m\u001b[0m\u001b[0;34m\u001b[0m\u001b[0m\n\u001b[0m\u001b[1;32m     16\u001b[0m \u001b[0;34m\u001b[0m\u001b[0m\n\u001b[1;32m     17\u001b[0m \u001b[0mses\u001b[0m \u001b[0;34m=\u001b[0m \u001b[0mlt\u001b[0m\u001b[0;34m.\u001b[0m\u001b[0msession\u001b[0m\u001b[0;34m(\u001b[0m\u001b[0;34m)\u001b[0m\u001b[0;34m\u001b[0m\u001b[0;34m\u001b[0m\u001b[0m\n",
            "\u001b[0;32m/usr/local/lib/python3.7/dist-packages/google/colab/drive.py\u001b[0m in \u001b[0;36mmount\u001b[0;34m(mountpoint, force_remount, timeout_ms, use_metadata_server)\u001b[0m\n\u001b[1;32m    261\u001b[0m       \u001b[0mwrote_to_fifo\u001b[0m \u001b[0;34m=\u001b[0m \u001b[0;32mTrue\u001b[0m\u001b[0;34m\u001b[0m\u001b[0;34m\u001b[0m\u001b[0m\n\u001b[1;32m    262\u001b[0m     \u001b[0;32melif\u001b[0m \u001b[0mcase\u001b[0m \u001b[0;34m==\u001b[0m \u001b[0;36m5\u001b[0m\u001b[0;34m:\u001b[0m\u001b[0;34m\u001b[0m\u001b[0;34m\u001b[0m\u001b[0m\n\u001b[0;32m--> 263\u001b[0;31m       \u001b[0;32mraise\u001b[0m \u001b[0mValueError\u001b[0m\u001b[0;34m(\u001b[0m\u001b[0;34m'mount failed: invalid oauth code'\u001b[0m\u001b[0;34m)\u001b[0m\u001b[0;34m\u001b[0m\u001b[0;34m\u001b[0m\u001b[0m\n\u001b[0m\u001b[1;32m    264\u001b[0m     \u001b[0;32melif\u001b[0m \u001b[0mcase\u001b[0m \u001b[0;34m==\u001b[0m \u001b[0;36m6\u001b[0m\u001b[0;34m:\u001b[0m\u001b[0;34m\u001b[0m\u001b[0;34m\u001b[0m\u001b[0m\n\u001b[1;32m    265\u001b[0m       \u001b[0;31m# Terminate the DriveFS binary before killing bash.\u001b[0m\u001b[0;34m\u001b[0m\u001b[0;34m\u001b[0m\u001b[0;34m\u001b[0m\u001b[0m\n",
            "\u001b[0;31mValueError\u001b[0m: mount failed: invalid oauth code"
          ]
        }
      ]
    },
    {
      "cell_type": "code",
      "metadata": {
        "id": "wigCT1fkuF0v"
      },
      "source": [
        " ''' \n",
        "  All the functions so far : \n",
        "  \n",
        "   sendMessage(msg) -> send msg to telegram. \n",
        "   getYifyFor(movie_name) -> get_links \n",
        "   downloadFromYify(file_link) -> Download from yify \n",
        "   magnetDownloads(magnet_link) -> Downloads from the magnet link \n",
        "   show_bars() -> Shows download bars \n",
        "    \n",
        "   '''"
      ],
      "execution_count": null,
      "outputs": []
    },
    {
      "cell_type": "code",
      "metadata": {
        "id": "5bRswgu094ZR",
        "colab": {
          "base_uri": "https://localhost:8080/"
        },
        "outputId": "95b4517f-9fb0-456b-8f81-59737e8108d3"
      },
      "source": [
        "params = {\"save_path\": \"/content/drive/Shareddrives/tdHackgence/Torrent\"}\n",
        " \n",
        "while True:\n",
        "    magnet_link =''\n",
        "    magnet_link = input(\"Enter Magnet Link Or Type Exit: \")\n",
        "    if magnet_link.lower() == \"exit\":\n",
        "        break\n",
        "    downloads.append(\n",
        "        lt.add_magnet_uri(ses, magnet_link, params)\n",
        "    )\n",
        " \n",
        "location = \"Shareddrives/tdHackgence/Torrent\""
      ],
      "execution_count": null,
      "outputs": [
        {
          "output_type": "stream",
          "text": [
            "Enter Magnet Link Or Type Exit: exit\n"
          ],
          "name": "stdout"
        }
      ]
    },
    {
      "cell_type": "code",
      "metadata": {
        "id": "zZUBjIu0dm1I",
        "colab": {
          "base_uri": "https://localhost:8080/"
        },
        "outputId": "061afa30-d262-40ce-f183-176084db38bb"
      },
      "source": [
        "magnet = 'magnet:?xt=urn:btih:9941695f098ca5655bedbd8cbbcdc45f3c579578&dn=The.Falcon.and.The.Winter.Soldier.S01E06.Episode.6.1080p.DSNP.WEB-DL.DDP5.1.H.264-EVO%5Beztv%5D&tr=udp://tracker.coppersurfer.tk:80&tr=udp://glotorrents.pw:6969/announce&tr=udp://tracker.leechers-paradise.org:6969&tr=udp://tracker.opentrackr.org:1337/announce&tr=udp://exodus.desync.com:6969'\n",
        "magnetDownloads(magnet)"
      ],
      "execution_count": null,
      "outputs": [
        {
          "output_type": "stream",
          "text": [
            "Appended magnet:?xt=urn:btih:9941695f098ca5655bedbd8cbbcdc45f3c579578&dn=The.Falcon.and.The.Winter.Soldier.S01E06.Episode.6.1080p.DSNP.WEB-DL.DDP5.1.H.264-EVO%5Beztv%5D&tr=udp://tracker.coppersurfer.tk:80&tr=udp://glotorrents.pw:6969/announce&tr=udp://tracker.leechers-paradise.org:6969&tr=udp://tracker.opentrackr.org:1337/announce&tr=udp://exodus.desync.com:6969 to downloads\n"
          ],
          "name": "stdout"
        }
      ]
    },
    {
      "cell_type": "code",
      "metadata": {
        "id": "_po5q0UdMREo"
      },
      "source": [
        "\n",
        "'''\n",
        "\n",
        "var id = setInterval(()=>{console.log(\"working\");document.querySelector(\"#top-toolbar > colab-connect-button\").shadowRoot.querySelector(\"#connect\").click();},3*60*1000);\n",
        "var id2 = setInterval(()=>{console.log(\"x\");document.querySelector(\"body > div.notebook-vertical > div.notebook-horizontal > div.layout.vertical.grow > colab-tab-layout-container > colab-tab-pane > colab-resizer > div.layout.vertical.grow > div > paper-tabs > paper-tab > paper-icon-button\").click();},0.5*60*1000)\n",
        "\n",
        "var btn = document.querySelector(\"#ok\") \n",
        "if (btn != null ) document.querySelector(\"#ok\").click()\n",
        "\n",
        "'''"
      ],
      "execution_count": null,
      "outputs": []
    },
    {
      "cell_type": "code",
      "metadata": {
        "id": "S6XyQOEFgqci",
        "colab": {
          "base_uri": "https://localhost:8080/"
        },
        "outputId": "37725d3b-4165-49a5-f4b7-480d8246b582"
      },
      "source": [
        "params = {\"save_path\": \"/content/drive/Shareddrives/tdHackgence/Torrent/AOT-Manga\"}\n",
        " \n",
        "while True:\n",
        "    magnet_link =''\n",
        "    magnet_link = input(\"Enter Magnet Link Or Type Exit: \")\n",
        "    if magnet_link.lower() == \"exit\":\n",
        "        break\n",
        "    downloads.append(\n",
        "        lt.add_magnet_uri(ses, magnet_link, params)\n",
        "    )\n",
        "\n",
        "location = \"Shareddrives/tdHackgence/Torrent\""
      ],
      "execution_count": null,
      "outputs": [
        {
          "output_type": "stream",
          "text": [
            "Enter Magnet Link Or Type Exit: exit\n"
          ],
          "name": "stdout"
        }
      ]
    },
    {
      "cell_type": "code",
      "metadata": {
        "id": "xpJ-p_7btSxi"
      },
      "source": [
        ""
      ],
      "execution_count": null,
      "outputs": []
    },
    {
      "cell_type": "code",
      "metadata": {
        "id": "r7xLioGqma5x",
        "colab": {
          "base_uri": "https://localhost:8080/",
          "height": 154
        },
        "outputId": "7fd64513-b65e-47bd-e096-b7cccaca25fc"
      },
      "source": [
        "getYifyFor(input(\"Enter the movie name with year of release:\"))"
      ],
      "execution_count": null,
      "outputs": [
        {
          "output_type": "stream",
          "text": [
            "Enter the movie name with year of release:Anand 1971\n",
            "[0] Rotten Tomatoes Audience - Upright https://www.rottentomatoes.com/m/anand\n",
            "[1] IMDb Rating https://www.imdb.com/title/tt0066763/\n",
            "[3] Download Anand 720p.BluRay Torrent https://yts.mx/torrent/download/6B88C9F3B9640381B7C95329BEB42938B3489279\n",
            "[4] Download Anand 1080p.BluRay Torrent https://yts.mx/torrent/download/712358FA136397C725740F2A61488AC827EC4A33\n",
            "[5] Download subtitles for Anand 1080p https://yifysubtitles.org/movie-imdb/tt0066763\n",
            "Enter which link to download4\n"
          ],
          "name": "stdout"
        },
        {
          "output_type": "execute_result",
          "data": {
            "application/vnd.google.colaboratory.intrinsic+json": {
              "type": "string"
            },
            "text/plain": [
              "'https://yts.mx/torrent/download/712358FA136397C725740F2A61488AC827EC4A33'"
            ]
          },
          "metadata": {
            "tags": []
          },
          "execution_count": 3
        }
      ]
    },
    {
      "cell_type": "code",
      "metadata": {
        "id": "th2l6QE8oki8"
      },
      "source": [
        "show_bars()\n",
        "downloads=[]"
      ],
      "execution_count": null,
      "outputs": []
    },
    {
      "cell_type": "code",
      "metadata": {
        "id": "OedU8-iFEYi0",
        "colab": {
          "base_uri": "https://localhost:8080/"
        },
        "outputId": "caadc4b3-1a74-42ef-f4f9-b8ff4370903a"
      },
      "source": [
        "!wget https://yts.mx/torrent/download/712358FA136397C725740F2A61488AC827EC4A33\n"
      ],
      "execution_count": null,
      "outputs": [
        {
          "output_type": "stream",
          "text": [
            "--2021-05-12 08:35:23--  https://yts.mx/torrent/download/712358FA136397C725740F2A61488AC827EC4A33\n",
            "Resolving yts.mx (yts.mx)... 172.67.72.176, 104.26.6.75, 104.26.7.75\n",
            "Connecting to yts.mx (yts.mx)|172.67.72.176|:443... connected.\n",
            "HTTP request sent, awaiting response... 200 OK\n",
            "Length: unspecified [application/octet-stream]\n",
            "Saving to: ‘712358FA136397C725740F2A61488AC827EC4A33’\n",
            "\n",
            "712358FA136397C7257     [  <=>               ]  76.73K   223KB/s    in 0.3s    \n",
            "\n",
            "2021-05-12 08:35:24 (223 KB/s) - ‘712358FA136397C725740F2A61488AC827EC4A33’ saved [78570]\n",
            "\n"
          ],
          "name": "stdout"
        }
      ]
    },
    {
      "cell_type": "code",
      "metadata": {
        "id": "gbLA8DYhevNV"
      },
      "source": [
        "getSubsFor(getYifyFor(input(\"Enter movie name with year of release \")))"
      ],
      "execution_count": null,
      "outputs": []
    },
    {
      "cell_type": "code",
      "metadata": {
        "id": "i-PhSVDnO-TC"
      },
      "source": [
        "fun = lambda x : x>2\n",
        " "
      ],
      "execution_count": 5,
      "outputs": []
    },
    {
      "cell_type": "code",
      "metadata": {
        "id": "Gt1-NGS4O_er"
      },
      "source": [
        "arr = [1, 2, 3, 4, 5]"
      ],
      "execution_count": 8,
      "outputs": []
    },
    {
      "cell_type": "code",
      "metadata": {
        "colab": {
          "base_uri": "https://localhost:8080/"
        },
        "id": "W07cL0PlPJXR",
        "outputId": "209e89b3-d168-49db-aee8-29ea1213a73f"
      },
      "source": [
        "filter(fun,arr)"
      ],
      "execution_count": 9,
      "outputs": [
        {
          "output_type": "execute_result",
          "data": {
            "text/plain": [
              "<filter at 0x7f8707f973d0>"
            ]
          },
          "metadata": {
            "tags": []
          },
          "execution_count": 9
        }
      ]
    },
    {
      "cell_type": "code",
      "metadata": {
        "id": "4X-g9kZpPQMq"
      },
      "source": [
        "k = _\n"
      ],
      "execution_count": 10,
      "outputs": []
    },
    {
      "cell_type": "code",
      "metadata": {
        "colab": {
          "base_uri": "https://localhost:8080/"
        },
        "id": "f7e3ZLPMPV90",
        "outputId": "bde88fa9-b972-4720-90c6-8bf422ff8012"
      },
      "source": [
        "list(k)\n",
        "\n"
      ],
      "execution_count": 11,
      "outputs": [
        {
          "output_type": "execute_result",
          "data": {
            "text/plain": [
              "[3, 4, 5]"
            ]
          },
          "metadata": {
            "tags": []
          },
          "execution_count": 11
        }
      ]
    },
    {
      "cell_type": "code",
      "metadata": {
        "id": "zQ8HaUM_T8Pb"
      },
      "source": [
        ""
      ],
      "execution_count": null,
      "outputs": []
    },
    {
      "cell_type": "code",
      "metadata": {
        "id": "HPe9V7wnPW1B"
      },
      "source": [
        "import requests as re\n",
        "from bs4 import BeautifulSoup as Soup\n",
        "def yts(name):\n",
        "  res = re.get('https://yts.mx/browse-movies/{}'.format(name))\n",
        "  soup = Soup(res.content)\n",
        "  links = soup.findAll('a')\n",
        "  link = filter(lambda x : x['href'].startswith('https://yts.mx/movies/'), links)\n",
        "  return list(map(lambda x:x['href'], link))\n",
        "\n",
        "def ytsTorrent(link):\n",
        "  di = {}\n",
        "  res = re.get(link)\n",
        "  soup = Soup(res.content)\n",
        "  links = soup.findAll('a')\n",
        "  link = filter(lambda x: x['href'].startswith('https://yts.mx/torrent/download/'), links)\n",
        "  ll = list(map(lambda x: (x['href'], x['title']), link))\n",
        "  for i in ll : \n",
        "    di[i[0]] = i[1]\n",
        "  \n",
        "  return di"
      ],
      "execution_count": 106,
      "outputs": []
    },
    {
      "cell_type": "code",
      "metadata": {
        "colab": {
          "base_uri": "https://localhost:8080/"
        },
        "id": "OORzxLDSQJdw",
        "outputId": "6151064d-023d-43b0-d3e0-96e3f8b5ed7c"
      },
      "source": [
        "ytsTorrent(yts('Avengers: EndGame')[0])"
      ],
      "execution_count": 107,
      "outputs": [
        {
          "output_type": "execute_result",
          "data": {
            "text/plain": [
              "{'https://yts.mx/torrent/download/134F7AF967DBDB585A934A24C9F2A2EEE72E2A93': 'Download Avengers: Endgame 3D.BluRay Torrent',\n",
              " 'https://yts.mx/torrent/download/223F7484D326AD8EFD3CF1E548DED524833CB77E': 'Download Avengers: Endgame 1080p.BluRay Torrent',\n",
              " 'https://yts.mx/torrent/download/414A6F933C48FC7543A9CDB42C854B5457C5BCC7': 'Download Avengers: Endgame 1080p.WEB Torrent',\n",
              " 'https://yts.mx/torrent/download/5A4140BD59D66BCAC57CF05AF4A8FAB4EBCAE1C1': 'Download Avengers: Endgame 720p.BluRay Torrent',\n",
              " 'https://yts.mx/torrent/download/709FBD48374D2AE13C11B07A26B5E7DDC727D720': 'Download Avengers: Endgame 2160p.BluRay Torrent',\n",
              " 'https://yts.mx/torrent/download/9D62160EEE330397A7A7BABA989A269C58CCFD8E': 'Download Avengers: Endgame 720p.WEB Torrent'}"
            ]
          },
          "metadata": {
            "tags": []
          },
          "execution_count": 107
        }
      ]
    },
    {
      "cell_type": "code",
      "metadata": {
        "id": "uizRZP4SSk9W"
      },
      "source": [
        ""
      ],
      "execution_count": 108,
      "outputs": []
    },
    {
      "cell_type": "code",
      "metadata": {
        "colab": {
          "base_uri": "https://localhost:8080/"
        },
        "id": "FlobvZI-aL-m",
        "outputId": "7e1b36c0-4517-4d04-aab0-2c2d957d59f0"
      },
      "source": [
        ""
      ],
      "execution_count": 110,
      "outputs": [
        {
          "output_type": "execute_result",
          "data": {
            "text/plain": [
              "{' ': None,\n",
              " '.': None,\n",
              " '0': None,\n",
              " '1': None,\n",
              " '8': None,\n",
              " ':': None,\n",
              " 'A': None,\n",
              " 'B': None,\n",
              " 'D': None,\n",
              " 'E': None,\n",
              " 'R': None,\n",
              " 'T': None,\n",
              " 'a': None,\n",
              " 'd': None,\n",
              " 'e': None,\n",
              " 'g': None,\n",
              " 'l': None,\n",
              " 'm': None,\n",
              " 'n': None,\n",
              " 'o': None,\n",
              " 'p': None,\n",
              " 'r': None,\n",
              " 's': None,\n",
              " 't': None,\n",
              " 'u': None,\n",
              " 'v': None,\n",
              " 'w': None,\n",
              " 'y': None}"
            ]
          },
          "metadata": {
            "tags": []
          },
          "execution_count": 110
        }
      ]
    },
    {
      "cell_type": "code",
      "metadata": {
        "colab": {
          "base_uri": "https://localhost:8080/",
          "height": 165
        },
        "id": "sBZBpaI-bj9T",
        "outputId": "52b22b5a-1d2b-44e0-dbce-963e4826acbf"
      },
      "source": [
        ""
      ],
      "execution_count": 111,
      "outputs": [
        {
          "output_type": "error",
          "ename": "NameError",
          "evalue": "ignored",
          "traceback": [
            "\u001b[0;31m---------------------------------------------------------------------------\u001b[0m",
            "\u001b[0;31mNameError\u001b[0m                                 Traceback (most recent call last)",
            "\u001b[0;32m<ipython-input-111-56fd2997c348>\u001b[0m in \u001b[0;36m<module>\u001b[0;34m()\u001b[0m\n\u001b[0;32m----> 1\u001b[0;31m \u001b[0mdir\u001b[0m\u001b[0;34m(\u001b[0m\u001b[0mdict_items\u001b[0m\u001b[0;34m)\u001b[0m\u001b[0;34m\u001b[0m\u001b[0;34m\u001b[0m\u001b[0m\n\u001b[0m",
            "\u001b[0;31mNameError\u001b[0m: name 'dict_items' is not defined"
          ]
        }
      ]
    },
    {
      "cell_type": "code",
      "metadata": {
        "id": "iphdqegnbnE7"
      },
      "source": [
        ""
      ],
      "execution_count": null,
      "outputs": []
    }
  ]
}