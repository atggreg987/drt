{
  "nbformat": 4,
  "nbformat_minor": 0,
  "metadata": {
    "colab": {
      "name": "torre.ipynb",
      "provenance": [],
      "collapsed_sections": [],
      "mount_file_id": "1U4NJDOWcEbNQnpMIt5n2YVDN1nFj0Zvl",
      "authorship_tag": "ABX9TyNrpBN0hovxUKxTqiyq86YQ",
      "include_colab_link": true
    },
    "kernelspec": {
      "display_name": "Python 3",
      "name": "python3"
    },
    "widgets": {
      "application/vnd.jupyter.widget-state+json": {
        "eb8ea5e2326a4ab39bab683a4d609989": {
          "model_module": "@jupyter-widgets/controls",
          "model_name": "FloatSliderModel",
          "state": {
            "_view_name": "FloatSliderView",
            "style": "IPY_MODEL_218507f7735f44bda676db4a0a9cf86a",
            "_dom_classes": [],
            "description": "The.Falcon.and.the.Winter.Soldier.S01E02.1080p.DSNP.WEB-DL.Atmos.H264-EVO[eztv.re].mkv 1142.453 kB/s downloading",
            "step": 0.01,
            "_model_name": "FloatSliderModel",
            "orientation": "horizontal",
            "max": 100,
            "_view_module": "@jupyter-widgets/controls",
            "_model_module_version": "1.5.0",
            "value": 99.99909996986389,
            "_view_count": null,
            "disabled": true,
            "_view_module_version": "1.5.0",
            "min": 0,
            "continuous_update": true,
            "readout_format": ".2f",
            "description_tooltip": null,
            "readout": true,
            "_model_module": "@jupyter-widgets/controls",
            "layout": "IPY_MODEL_9fc325182aef41c28131cb8e2da76b5d"
          }
        },
        "218507f7735f44bda676db4a0a9cf86a": {
          "model_module": "@jupyter-widgets/controls",
          "model_name": "SliderStyleModel",
          "state": {
            "_view_name": "StyleView",
            "handle_color": null,
            "_model_name": "SliderStyleModel",
            "description_width": "initial",
            "_view_module": "@jupyter-widgets/base",
            "_model_module_version": "1.5.0",
            "_view_count": null,
            "_view_module_version": "1.2.0",
            "_model_module": "@jupyter-widgets/controls"
          }
        },
        "9fc325182aef41c28131cb8e2da76b5d": {
          "model_module": "@jupyter-widgets/base",
          "model_name": "LayoutModel",
          "state": {
            "_view_name": "LayoutView",
            "grid_template_rows": null,
            "right": null,
            "justify_content": null,
            "_view_module": "@jupyter-widgets/base",
            "overflow": null,
            "_model_module_version": "1.2.0",
            "_view_count": null,
            "flex_flow": null,
            "width": "auto",
            "min_width": null,
            "border": null,
            "align_items": null,
            "bottom": null,
            "_model_module": "@jupyter-widgets/base",
            "top": null,
            "grid_column": null,
            "overflow_y": null,
            "overflow_x": null,
            "grid_auto_flow": null,
            "grid_area": null,
            "grid_template_columns": null,
            "flex": null,
            "_model_name": "LayoutModel",
            "justify_items": null,
            "grid_row": null,
            "max_height": null,
            "align_content": null,
            "visibility": null,
            "align_self": null,
            "height": null,
            "min_height": null,
            "padding": null,
            "grid_auto_rows": null,
            "grid_gap": null,
            "max_width": null,
            "order": null,
            "_view_module_version": "1.2.0",
            "grid_template_areas": null,
            "object_position": null,
            "object_fit": null,
            "grid_auto_columns": null,
            "margin": null,
            "display": null,
            "left": null
          }
        }
      }
    }
  },
  "cells": [
    {
      "cell_type": "markdown",
      "metadata": {
        "id": "view-in-github",
        "colab_type": "text"
      },
      "source": [
        "<a href=\"https://colab.research.google.com/github/helidenial/drt/blob/main/torre.ipynb\" target=\"_parent\"><img src=\"https://colab.research.google.com/assets/colab-badge.svg\" alt=\"Open In Colab\"/></a>"
      ]
    },
    {
      "cell_type": "code",
      "metadata": {
        "colab": {
          "base_uri": "https://localhost:8080/"
        },
        "id": "0Hw_FYVY9tnq",
        "outputId": "7c3eff0a-a3db-41a0-b3a9-c1f78e0da2e8"
      },
      "source": [
        "!apt install python3-pip >/etc/null 2>&1 ; echo \"|\"\n",
        "!python -m pip install --upgrade pip setuptools wheel >/etc/null 2>&1 ; echo \"||\"\n",
        "!python -m pip install lbry-libtorrent >/etc/null 2>&1 ; echo \"|||\"\n",
        "!apt install python3-libtorrent >/etc/null 2>&1 ; echo \"||||\"\n",
        "\n",
        "import time\n",
        "from IPython.display import display\n",
        "import ipywidgets as widgets\n",
        "import libtorrent as lt\n",
        "import requests\n",
        "from google.colab import drive\n",
        "import requests as re\n",
        "from bs4 import BeautifulSoup as Soup\n",
        "\n",
        "drive.mount(\"/content/drive\")\n",
        "\n",
        "ses = lt.session()\n",
        "ses.listen_on(6881, 6891)\n",
        "downloads = []\n",
        "\n",
        "def sendMessage(bot_message):\n",
        "    token = ''\n",
        "    chatID = ''\n",
        "    send_text = 'https://api.telegram.org/bot' + token + '/sendMessage?chat_id=' + chatID + '&parse_mode=Markdown&text=' + bot_message\n",
        "    res = requests.get(send_text)\n",
        "    return res\n",
        "\n",
        "def getYifyFor(movie_name):\n",
        "  base_link = \"https://yts.mx/movies/\"\n",
        "  movie = movie_name.replace(' ','-').lower()\n",
        "  res = re.get(base_link+movie)\n",
        "\n",
        "  soup = Soup(res.content)\n",
        "\n",
        "  link_a = soup.find('div',{\"class\":\"bottom-info\"}).findAll('a')\n",
        "  for i,a in enumerate(link_a):\n",
        "    try:\n",
        "      print(f'[{i}]',a['title'],a['href'])\n",
        "    except:\n",
        "      pass\n",
        "\n",
        "  inp = input(\"Enter which link to download\")\n",
        "  \n",
        "  return link_a[int(inp)]['href']\n",
        "\n",
        "def downloadFromYify(file_link):\n",
        "  !wget $file_link\n",
        "  file_name = file_link.split('/')[-1]\n",
        "  params = {\n",
        "    \"save_path\": \"/content/drive/Shareddrives/tdHackgence/Torrent\",\n",
        "    \"ti\": lt.torrent_info(file_name),\n",
        "  }\n",
        "  downloads.append(ses.add_torrent(params))\n",
        " \n",
        "location=\"\"\n",
        "\n",
        "def show_bars():\n",
        "  name =''\n",
        "  state_str = [\n",
        "      \"queued\",\n",
        "      \"checking\",\n",
        "      \"downloading metadata\",\n",
        "      \"downloading\",\n",
        "      \"finished\",\n",
        "      \"seeding\",\n",
        "      \"allocating\",\n",
        "      \"checking fastresume\",\n",
        "  ]\n",
        "  \n",
        "  layout = widgets.Layout(width=\"auto\")\n",
        "  style = {\"description_width\": \"initial\"}\n",
        "  download_bars = [\n",
        "      widgets.FloatSlider(\n",
        "          step=0.01, disabled=True, layout=layout, style=style\n",
        "      )\n",
        "      for _ in downloads\n",
        "  ]\n",
        "  display(*download_bars)\n",
        "  \n",
        "  while downloads:\n",
        "      next_shift = 0\n",
        "      for index, download in enumerate(downloads[:]):\n",
        "          bar = download_bars[index + next_shift]\n",
        "          if not download.is_seed():\n",
        "              s = download.status()\n",
        "  \n",
        "              bar.description = \" \".join(\n",
        "                  [\n",
        "                      download.name(),\n",
        "                      str(s.download_rate / 1000),\n",
        "                      \"kB/s\",\n",
        "                      state_str[s.state],\n",
        "                  ]\n",
        "              )\n",
        "              bar.value = s.progress * 100\n",
        "          else:\n",
        "              next_shift -= 1\n",
        "              ses.remove_torrent(download)\n",
        "              downloads.remove(download)\n",
        "              bar.close() # Seems to be not working in Colab (see https://github.com/googlecolab/colabtools/issues/726#issue-486731758)\n",
        "              download_bars.remove(bar)\n",
        "              name = download.name()\n",
        "              print(download.name(), \"complete\")\n",
        "      time.sleep(1)\n",
        "\n",
        "\n",
        "  sendMessage('Uploaded \\n\\n'+name+'\\n\\nTo ' + location )\n",
        "  print('Done uploading '+name+' To your google drive')\n",
        "\n",
        "\n",
        "import os\n",
        "home_path = \"/content/drive/Shareddrives/tdHackgence/Torrent/Subtitles\"\n",
        "\n",
        "def getSubsFor(sub_link):  \n",
        "  temp_path = os.getcwd()\n",
        "  os.chdir(home_path)\n",
        "  res = re.get(sub_link)\n",
        "  sub_link\n",
        "  sou = Soup(res.content)\n",
        "  movie=\"train-to-busan\"\n",
        "  res = sou.find(\"span\",{\"class\":\"flag flag-gb\"})\n",
        "  a_href = res.parent.parent.find('a')\n",
        "\n",
        "  final_link=\"https://yifysubtitles.org\"+a_href['href'].replace('subtitles','subtitle')+\".zip\"\n",
        "  file_name = final_link.split('/')[-1]\n",
        "  ! wget $final_link\n",
        "  ! unzip $file_name\n",
        "  os.chdir(temp_path)"
      ],
      "execution_count": null,
      "outputs": [
        {
          "output_type": "stream",
          "text": [
            "|\n",
            "||\n",
            "|||\n",
            "||||\n",
            "Drive already mounted at /content/drive; to attempt to forcibly remount, call drive.mount(\"/content/drive\", force_remount=True).\n"
          ],
          "name": "stdout"
        }
      ]
    },
    {
      "cell_type": "code",
      "metadata": {
        "id": "5bRswgu094ZR",
        "colab": {
          "base_uri": "https://localhost:8080/"
        },
        "outputId": "955756c2-ab18-4aac-c248-758cf50b7407"
      },
      "source": [
        "params = {\"save_path\": \"/content/drive/Shareddrives/tdHackgence/Torrent\"}\n",
        " \n",
        "while True:\n",
        "    magnet_link =''\n",
        "    magnet_link = input(\"Enter Magnet Link Or Type Exit: \")\n",
        "    if magnet_link.lower() == \"exit\":\n",
        "        break\n",
        "    downloads.append(\n",
        "        lt.add_magnet_uri(ses, magnet_link, params)\n",
        "    )\n",
        " \n",
        "location = \"Shareddrives/tdHackgence/Torrent\""
      ],
      "execution_count": null,
      "outputs": [
        {
          "output_type": "stream",
          "text": [
            "Enter Magnet Link Or Type Exit: magnet:?xt=urn:btih:660651363bd7d181d0627410d80530008ea1405e&dn=The.Falcon.and.the.Winter.Soldier.S01E02.1080p.DSNP.WEB-DL.Atmos.H264-EVO%5Beztv.re%5D.mkv%5Beztv%5D&tr=udp%3A%2F%2Ftracker.coppersurfer.tk%3A80&tr=udp%3A%2F%2Fglotorrents.pw%3A6969%2Fannounce&tr=udp%3A%2F%2Ftracker.opentrackr.org%3A1337%2Fannounce&tr=udp%3A%2F%2Fexodus.desync.com%3A6969\n",
            "Enter Magnet Link Or Type Exit: exit\n"
          ],
          "name": "stdout"
        }
      ]
    },
    {
      "cell_type": "code",
      "metadata": {
        "id": "_po5q0UdMREo"
      },
      "source": [
        "\n",
        "'''\n",
        "\n",
        "var id = setInterval(()=>{console.log(\"working\");document.querySelector(\"#top-toolbar > colab-connect-button\").shadowRoot.querySelector(\"#connect\").click();},3*60*1000);\n",
        "\n",
        "var btn = document.querySelector(\"#ok\") \n",
        "if (btn != null ) document.querySelector(\"#ok\").click()\n",
        "\n",
        "'''"
      ],
      "execution_count": null,
      "outputs": []
    },
    {
      "cell_type": "code",
      "metadata": {
        "id": "S6XyQOEFgqci"
      },
      "source": [
        "params = {\"save_path\": \"/content/drive/Shareddrives/tdHackgence/Torrent/AOT-Manga\"}\n",
        " \n",
        "while True:\n",
        "    magnet_link =''\n",
        "    magnet_link = input(\"Enter Magnet Link Or Type Exit: \")\n",
        "    if magnet_link.lower() == \"exit\":\n",
        "        break\n",
        "    downloads.append(\n",
        "        lt.add_magnet_uri(ses, magnet_link, params)\n",
        "    )\n",
        "\n",
        "location = \"Shareddrives/tdHackgence/Torrent\""
      ],
      "execution_count": null,
      "outputs": []
    },
    {
      "cell_type": "code",
      "metadata": {
        "colab": {
          "base_uri": "https://localhost:8080/",
          "height": 163
        },
        "id": "r7xLioGqma5x",
        "outputId": "e769cb7e-a660-438e-f3f3-ec4330a37d28"
      },
      "source": [
        "downloadFromYify(getYifyFor(input(\"Enter the movie name with year of release:\")))"
      ],
      "execution_count": null,
      "outputs": [
        {
          "output_type": "error",
          "ename": "NameError",
          "evalue": "ignored",
          "traceback": [
            "\u001b[0;31m---------------------------------------------------------------------------\u001b[0m",
            "\u001b[0;31mNameError\u001b[0m                                 Traceback (most recent call last)",
            "\u001b[0;32m<ipython-input-2-268f19218ba9>\u001b[0m in \u001b[0;36m<module>\u001b[0;34m()\u001b[0m\n\u001b[0;32m----> 1\u001b[0;31m \u001b[0mdownloadFromYify\u001b[0m\u001b[0;34m(\u001b[0m\u001b[0mgetYifyFor\u001b[0m\u001b[0;34m(\u001b[0m\u001b[0minput\u001b[0m\u001b[0;34m(\u001b[0m\u001b[0;34m\"Enter the movie name with year of release:\"\u001b[0m\u001b[0;34m)\u001b[0m\u001b[0;34m)\u001b[0m\u001b[0;34m)\u001b[0m\u001b[0;34m\u001b[0m\u001b[0;34m\u001b[0m\u001b[0m\n\u001b[0m",
            "\u001b[0;31mNameError\u001b[0m: name 'downloadFromYify' is not defined"
          ]
        }
      ]
    },
    {
      "cell_type": "code",
      "metadata": {
        "colab": {
          "base_uri": "https://localhost:8080/",
          "height": 51,
          "referenced_widgets": [
            "eb8ea5e2326a4ab39bab683a4d609989",
            "218507f7735f44bda676db4a0a9cf86a",
            "9fc325182aef41c28131cb8e2da76b5d"
          ]
        },
        "id": "th2l6QE8oki8",
        "outputId": "3b2408aa-f080-4ac2-ce56-5f7b5c63501f"
      },
      "source": [
        "show_bars()\n",
        "downloads=[]"
      ],
      "execution_count": null,
      "outputs": [
        {
          "output_type": "display_data",
          "data": {
            "application/vnd.jupyter.widget-view+json": {
              "model_id": "eb8ea5e2326a4ab39bab683a4d609989",
              "version_minor": 0,
              "version_major": 2
            },
            "text/plain": [
              "FloatSlider(value=0.0, disabled=True, layout=Layout(width='auto'), step=0.01, style=SliderStyle(description_wi…"
            ]
          },
          "metadata": {
            "tags": []
          }
        },
        {
          "output_type": "stream",
          "text": [
            "The.Falcon.and.the.Winter.Soldier.S01E02.1080p.DSNP.WEB-DL.Atmos.H264-EVO[eztv.re].mkv complete\n",
            "Done uploading The.Falcon.and.the.Winter.Soldier.S01E02.1080p.DSNP.WEB-DL.Atmos.H264-EVO[eztv.re].mkv To your google drive\n"
          ],
          "name": "stdout"
        }
      ]
    },
    {
      "cell_type": "code",
      "metadata": {
        "id": "OedU8-iFEYi0"
      },
      "source": [
        "downloads=[]"
      ],
      "execution_count": null,
      "outputs": []
    },
    {
      "cell_type": "code",
      "metadata": {
        "id": "UElrL3rWbBAq"
      },
      "source": [
        " ''' \n",
        "  All the functions so far : \n",
        "    \n",
        "   sendMessage(msg) -> send msg to telegram. \n",
        "   getYifyFor(movie_name) -> get_links \n",
        "   downloadFromYify(file_link) -> Download from yify  \n",
        "   show_bars() -> Shows download bars \n",
        "    \n",
        "   '''\n"
      ],
      "execution_count": null,
      "outputs": []
    },
    {
      "cell_type": "code",
      "metadata": {
        "colab": {
          "base_uri": "https://localhost:8080/"
        },
        "id": "gbLA8DYhevNV",
        "outputId": "37886122-5845-43f7-c1e0-8c3c9886b8a6"
      },
      "source": [
        "getSubsFor(getYifyFor(input(\"Enter movie name with year of release \")))"
      ],
      "execution_count": null,
      "outputs": [
        {
          "output_type": "stream",
          "text": [
            "Enter movie name with year name train to busan 2016\n",
            "[0] Rotten Tomatoes Critics - Certified Fresh https://www.rottentomatoes.com/m/train_to_busan\n",
            "[1] Rotten Tomatoes Audience - Upright https://www.rottentomatoes.com/m/train_to_busan\n",
            "[2] IMDb Rating https://www.imdb.com/title/tt5700672/\n",
            "[4] Download Train to Busan 720p.BluRay Torrent https://yts.mx/torrent/download/26B7C7371F232CAA12D8AF216C0EB524CF1B1DA2\n",
            "[5] Download Train to Busan 1080p.BluRay Torrent https://yts.mx/torrent/download/168637B7A074323F92B4D233383DF90E7EB88CE0\n",
            "[6] Download subtitles for Train to Busan 1080p https://yifysubtitles.org/movie-imdb/tt5700672\n",
            "Enter which link to download-1\n",
            "--2021-03-27 07:36:46--  https://yifysubtitles.org/subtitle/train-to-busan-2016-english-yify-35328.zip\n",
            "Resolving yifysubtitles.org (yifysubtitles.org)... 172.67.130.111, 104.21.8.116, 2606:4700:3033::ac43:826f, ...\n",
            "Connecting to yifysubtitles.org (yifysubtitles.org)|172.67.130.111|:443... connected.\n",
            "HTTP request sent, awaiting response... 200 OK\n",
            "Length: 20485 (20K) [application/zip]\n",
            "Saving to: ‘train-to-busan-2016-english-yify-35328.zip’\n",
            "\n",
            "train-to-busan-2016 100%[===================>]  20.00K   111KB/s    in 0.2s    \n",
            "\n",
            "2021-03-27 07:36:47 (111 KB/s) - ‘train-to-busan-2016-english-yify-35328.zip’ saved [20485/20485]\n",
            "\n",
            "Archive:  train-to-busan-2016-english-yify-35328.zip\n",
            "yifysubtitles.org\n",
            "  inflating: Train.to.Busan.2016.720p.BluRay.x264.[YTS.MX]-English.srt  \n"
          ],
          "name": "stdout"
        }
      ]
    }
  ]
}