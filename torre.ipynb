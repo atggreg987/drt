{
  "nbformat": 4,
  "nbformat_minor": 0,
  "metadata": {
    "colab": {
      "name": "torre.ipynb",
      "provenance": [],
      "collapsed_sections": [],
      "mount_file_id": "1U4NJDOWcEbNQnpMIt5n2YVDN1nFj0Zvl",
      "authorship_tag": "ABX9TyNrpBN0hovxUKxTqiyq86YQ",
      "include_colab_link": true
    },
    "kernelspec": {
      "display_name": "Python 3",
      "name": "python3"
    }
  },
  "cells": [
    {
      "cell_type": "markdown",
      "metadata": {
        "id": "view-in-github",
        "colab_type": "text"
      },
      "source": [
        "<a href=\"https://colab.research.google.com/github/helidenial/drt/blob/main/torre.ipynb\" target=\"_parent\"><img src=\"https://colab.research.google.com/assets/colab-badge.svg\" alt=\"Open In Colab\"/></a>"
      ]
    },
    {
      "cell_type": "code",
      "metadata": {
        "id": "0Hw_FYVY9tnq"
      },
      "source": [
        "!apt install python3-pip >/etc/null 2>&1 ; echo \"|\"\n",
        "!python -m pip install --upgrade pip setuptools wheel >/etc/null 2>&1 ; echo \"||\"\n",
        "!python -m pip install lbry-libtorrent >/etc/null 2>&1 ; echo \"|||\"\n",
        "!apt install python3-libtorrent >/etc/null 2>&1 ; echo \"||||\"\n",
        "\n",
        "import time\n",
        "from IPython.display import display\n",
        "import ipywidgets as widgets\n",
        "import libtorrent as lt\n",
        "import requests\n",
        "from google.colab import drive\n",
        "import requests as re\n",
        "from bs4 import BeautifulSoup as Soup\n",
        "\n",
        "drive.mount(\"/content/drive\")\n",
        "\n",
        "ses = lt.session()\n",
        "ses.listen_on(6881, 6891)\n",
        "downloads = []\n",
        "\n",
        "def sendMessage(bot_message):\n",
        "    token = ''\n",
        "    chatID = ''\n",
        "    send_text = 'https://api.telegram.org/bot' + token + '/sendMessage?chat_id=' + chatID + '&parse_mode=Markdown&text=' + bot_message\n",
        "    res = requests.get(send_text)\n",
        "    return res\n",
        "\n",
        "def getYifyFor(movie_name):\n",
        "  base_link = \"https://yts.mx/movies/\"\n",
        "  movie = movie_name.replace(' ','-').lower()\n",
        "  res = re.get(base_link+movie)\n",
        "\n",
        "  soup = Soup(res.content)\n",
        "\n",
        "  link_a = soup.find('div',{\"class\":\"bottom-info\"}).findAll('a')\n",
        "  for i,a in enumerate(link_a):\n",
        "    try:\n",
        "      print(f'[{i}]',a['title'],a['href'])\n",
        "    except:\n",
        "      pass\n",
        "\n",
        "  inp = input(\"Enter which link to download\")\n",
        "  \n",
        "  return link_a[int(inp)]['href']\n",
        "\n",
        "def downloadFromYify(file_link):\n",
        "  !wget $file_link\n",
        "  file_name = file_link.split('/')[-1]\n",
        "  params = {\n",
        "    \"save_path\": \"/content/drive/Shareddrives/tdHackgence/Torrent\",\n",
        "    \"ti\": lt.torrent_info(file_name),\n",
        "  }\n",
        "  downloads.append(ses.add_torrent(params))\n",
        " \n",
        "location=\"\"\n",
        "\n",
        "def show_bars():\n",
        "  name =''\n",
        "  state_str = [\n",
        "      \"queued\",\n",
        "      \"checking\",\n",
        "      \"downloading metadata\",\n",
        "      \"downloading\",\n",
        "      \"finished\",\n",
        "      \"seeding\",\n",
        "      \"allocating\",\n",
        "      \"checking fastresume\",\n",
        "  ]\n",
        "  \n",
        "  layout = widgets.Layout(width=\"auto\")\n",
        "  style = {\"description_width\": \"initial\"}\n",
        "  download_bars = [\n",
        "      widgets.FloatSlider(\n",
        "          step=0.01, disabled=True, layout=layout, style=style\n",
        "      )\n",
        "      for _ in downloads\n",
        "  ]\n",
        "  display(*download_bars)\n",
        "  \n",
        "  while downloads:\n",
        "      next_shift = 0\n",
        "      for index, download in enumerate(downloads[:]):\n",
        "          bar = download_bars[index + next_shift]\n",
        "          if not download.is_seed():\n",
        "              s = download.status()\n",
        "  \n",
        "              bar.description = \" \".join(\n",
        "                  [\n",
        "                      download.name(),\n",
        "                      str(s.download_rate / 1000),\n",
        "                      \"kB/s\",\n",
        "                      state_str[s.state],\n",
        "                  ]\n",
        "              )\n",
        "              bar.value = s.progress * 100\n",
        "          else:\n",
        "              next_shift -= 1\n",
        "              ses.remove_torrent(download)\n",
        "              downloads.remove(download)\n",
        "              bar.close() # Seems to be not working in Colab (see https://github.com/googlecolab/colabtools/issues/726#issue-486731758)\n",
        "              download_bars.remove(bar)\n",
        "              name = download.name()\n",
        "              print(download.name(), \"complete\")\n",
        "      time.sleep(1)\n",
        "\n",
        "\n",
        "  sendMessage('Uploaded \\n\\n'+name+'\\n\\nTo ' + location )\n",
        "  print('Done uploading '+name+' To your google drive')\n",
        "\n",
        "\n",
        "import os\n",
        "home_path = \"/content/drive/Shareddrives/tdHackgence/Torrent/Subtitles\"\n",
        "\n",
        "def getSubsFor(sub_link):  \n",
        "  temp_path = os.getcwd()\n",
        "  os.chdir(home_path)\n",
        "  res = re.get(sub_link)\n",
        "  sub_link\n",
        "  sou = Soup(res.content)\n",
        "  movie=\"train-to-busan\"\n",
        "  res = sou.find(\"span\",{\"class\":\"flag flag-gb\"})\n",
        "  a_href = res.parent.parent.find('a')\n",
        "\n",
        "  final_link=\"https://yifysubtitles.org\"+a_href['href'].replace('subtitles','subtitle')+\".zip\"\n",
        "  file_name = final_link.split('/')[-1]\n",
        "  ! wget $final_link\n",
        "  ! unzip $file_name\n",
        "  os.chdir(temp_path)"
      ],
      "execution_count": null,
      "outputs": []
    },
    {
      "cell_type": "code",
      "metadata": {
        "id": "5bRswgu094ZR"
      },
      "source": [
        "params = {\"save_path\": \"/content/drive/Shareddrives/tdHackgence/Torrent\"}\n",
        " \n",
        "while True:\n",
        "    magnet_link =''\n",
        "    magnet_link = input(\"Enter Magnet Link Or Type Exit: \")\n",
        "    if magnet_link.lower() == \"exit\":\n",
        "        break\n",
        "    downloads.append(\n",
        "        lt.add_magnet_uri(ses, magnet_link, params)\n",
        "    )\n",
        " \n",
        "location = \"Shareddrives/tdHackgence/Torrent\""
      ],
      "execution_count": null,
      "outputs": []
    },
    {
      "cell_type": "code",
      "metadata": {
        "id": "_po5q0UdMREo"
      },
      "source": [
        "\n",
        "'''\n",
        "\n",
        "var id = setInterval(()=>{console.log(\"working\");document.querySelector(\"#top-toolbar > colab-connect-button\").shadowRoot.querySelector(\"#connect\").click();},3*60*1000);\n",
        "\n",
        "var btn = document.querySelector(\"#ok\") \n",
        "if (btn != null ) document.querySelector(\"#ok\").click()\n",
        "\n",
        "'''"
      ],
      "execution_count": null,
      "outputs": []
    },
    {
      "cell_type": "code",
      "metadata": {
        "id": "S6XyQOEFgqci"
      },
      "source": [
        "params = {\"save_path\": \"/content/drive/Shareddrives/tdHackgence/Torrent/AOT-Manga\"}\n",
        " \n",
        "while True:\n",
        "    magnet_link =''\n",
        "    magnet_link = input(\"Enter Magnet Link Or Type Exit: \")\n",
        "    if magnet_link.lower() == \"exit\":\n",
        "        break\n",
        "    downloads.append(\n",
        "        lt.add_magnet_uri(ses, magnet_link, params)\n",
        "    )\n",
        "\n",
        "location = \"Shareddrives/tdHackgence/Torrent\""
      ],
      "execution_count": null,
      "outputs": []
    },
    {
      "cell_type": "code",
      "metadata": {
        "id": "r7xLioGqma5x"
      },
      "source": [
        "downloadFromYify(getYifyFor(input(\"Enter the movie name with year of release:\")))"
      ],
      "execution_count": null,
      "outputs": []
    },
    {
      "cell_type": "code",
      "metadata": {
        "id": "th2l6QE8oki8"
      },
      "source": [
        "show_bars()\n",
        "downloads=[]"
      ],
      "execution_count": null,
      "outputs": []
    },
    {
      "cell_type": "code",
      "metadata": {
        "id": "OedU8-iFEYi0"
      },
      "source": [
        "downloads=[]"
      ],
      "execution_count": null,
      "outputs": []
    },
    {
      "cell_type": "code",
      "metadata": {
        "id": "UElrL3rWbBAq"
      },
      "source": [
        " ''' \n",
        "  All the functions so far : \n",
        "    \n",
        "   sendMessage(msg) -> send msg to telegram. \n",
        "   getYifyFor(movie_name) -> get_links \n",
        "   downloadFromYify(file_link) -> Download from yify  \n",
        "   show_bars() -> Shows download bars \n",
        "    \n",
        "   '''\n"
      ],
      "execution_count": null,
      "outputs": []
    },
    {
      "cell_type": "code",
      "metadata": {
        "id": "gbLA8DYhevNV"
      },
      "source": [
        "getSubsFor(getYifyFor(input(\"Enter movie name with year of release \")))"
      ],
      "execution_count": null,
      "outputs": []
    }
  ]
}