{
  "nbformat": 4,
  "nbformat_minor": 0,
  "metadata": {
    "colab": {
      "name": "Untitled0.ipynb",
      "provenance": [],
      "mount_file_id": "10Hq305ctAjf7fYMfcyTJVI0sMByRPsNg",
      "authorship_tag": "ABX9TyNXBxAja3zKnR3Wxmiu5/s6",
      "include_colab_link": true
    },
    "kernelspec": {
      "name": "python3",
      "display_name": "Python 3"
    }
  },
  "cells": [
    {
      "cell_type": "markdown",
      "metadata": {
        "id": "view-in-github",
        "colab_type": "text"
      },
      "source": [
        "<a href=\"https://colab.research.google.com/github/helidenial/drt/blob/main/eztv.ipynb\" target=\"_parent\"><img src=\"https://colab.research.google.com/assets/colab-badge.svg\" alt=\"Open In Colab\"/></a>"
      ]
    },
    {
      "cell_type": "code",
      "metadata": {
        "id": "_POXPStCatwF"
      },
      "source": [
        "import requests as re \n",
        "from bs4 import BeautifulSoup as Soup\n",
        "from IPython.display import clear_output\n",
        "\n",
        "def select(iterable):\n",
        "  print()\n",
        "  for i,item in enumerate(iterable):\n",
        "    print(i,item)\n",
        "  index = input(\"Select one of the index:\")\n",
        "  clear_output()\n",
        "  return iterable[int(index)]\n",
        "\n",
        "def getEpisodesId(tvID,query=''):\n",
        "  res = re.get(f'https://www.imdb.com/title/{tvID}/episodes?'+query)\n",
        "  soup = Soup(res.content)\n",
        "  result = soup.find('div',{'class':'eplist'})\n",
        "  results = result.findAll('div',attrs={\"class\":\"list_item\"})\n",
        "  return list(map(lambda x:{\"title\": x.find('strong').a['title'], 'href': x.find('strong').a['href'].split('/')[-2],\"date\": x.find('div',{\"class\":\"airdate\"}).text.strip()} , results))\n",
        "\n",
        "def getTitleIds(q):\n",
        "  q = q.replace(' ','+')\n",
        "  res = re.get(f'https://www.imdb.com/find?q={q}')\n",
        "  soup = Soup(res.content)\n",
        "  tds = soup.findAll('td',{\"class\":\"result_text\"})\n",
        "  return list(map(lambda td: (td.a['href'].split('/')[-2] ,td.text) ,tds))\n",
        "\n",
        "def eztv(id,limit=100,page=1):\n",
        "  res = re.get(f'https://eztv.re/api/get-torrents?imdb_id={id}&limit={limit}&page={page}')\n",
        "\n",
        "\n",
        "  for j,i  in enumerate(res.json().get('torrents')):\n",
        "    print(f\"[{j}]\",i.get('filename', -1), f\"{int(i.get('size_bytes'))/(1024*1024)} MB\")\n",
        "    print(i.get('magnet_url'))\n",
        "    print()\n"
      ],
      "execution_count": 143,
      "outputs": []
    },
    {
      "cell_type": "code",
      "metadata": {
        "colab": {
          "base_uri": "https://localhost:8080/",
          "height": 35
        },
        "id": "PgikzpFOsWVt",
        "outputId": "a128449c-8db4-4539-88fd-29d72c51f853"
      },
      "source": [
        "getId = lambda x: select(getEpisodeId(select(titleIds(x))[0]))['href']\n",
        "\n",
        "getId(input())"
      ],
      "execution_count": 138,
      "outputs": [
        {
          "output_type": "execute_result",
          "data": {
            "application/vnd.google.colaboratory.intrinsic+json": {
              "type": "string"
            },
            "text/plain": [
              "'tt9212994'"
            ]
          },
          "metadata": {
            "tags": []
          },
          "execution_count": 138
        }
      ]
    },
    {
      "cell_type": "code",
      "metadata": {
        "id": "QexHjeKNATlR"
      },
      "source": [
        "eztv(select(getTitleIds(input(\"Enter title name \")))[0][2:])"
      ],
      "execution_count": 158,
      "outputs": []
    },
    {
      "cell_type": "code",
      "metadata": {
        "colab": {
          "base_uri": "https://localhost:8080/"
        },
        "id": "LO9_5_flX9oc",
        "outputId": "96101bbb-f23a-4e38-97cd-efd05a739461"
      },
      "source": [
        "getTitleIds('WandaVision')"
      ],
      "execution_count": 152,
      "outputs": [
        {
          "output_type": "execute_result",
          "data": {
            "text/plain": [
              "[('tt9140560', ' WandaVision (2021) (TV Mini-Series) '),\n",
              " ('tt14260860',\n",
              "  ' WandaVision (2021) (TV Episode)  - Season 2 | Episode 9  - Off to the Movies (2020) (TV Series)  '),\n",
              " ('tt13846912',\n",
              "  ' WandaVision (2021) (TV Episode)  - Season 3 | Episode 2  - IMDb on the Scene - Interviews (2017) (TV Series)  '),\n",
              " ('tt10161312',\n",
              "  ' Now in Color (2021) (TV Episode)  - Season 1 | Episode 3  - WandaVision (2021) (TV Mini-Series)  '),\n",
              " ('nm2995857',\n",
              "  ' Sion Davis (Camera and Electrical Department, The Big I Am (2010))'),\n",
              " ('nm10680628', ' Dana Davision (Actor, I Miss You (2019))'),\n",
              " ('search', ' reference-to-wandavision (7 titles) '),\n",
              " ('search', ' bette-davis-impression (7 titles) '),\n",
              " ('co0774614', ' Wanda Visión [es] (Distributor) '),\n",
              " ('co0055022', ' Wanda Visión S.A. [es] (International Sales Agent) ')]"
            ]
          },
          "metadata": {
            "tags": []
          },
          "execution_count": 152
        }
      ]
    },
    {
      "cell_type": "code",
      "metadata": {
        "id": "LRrdvyA9aQut"
      },
      "source": [
        "eztv(\"9140560\")"
      ],
      "execution_count": null,
      "outputs": []
    },
    {
      "cell_type": "code",
      "metadata": {
        "id": "O7nFO5-FbKTk"
      },
      "source": [
        ""
      ],
      "execution_count": null,
      "outputs": []
    }
  ]
}