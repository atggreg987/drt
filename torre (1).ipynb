{
  "nbformat": 4,
  "nbformat_minor": 0,
  "metadata": {
    "colab": {
      "name": "torre.ipynb",
      "provenance": [],
      "collapsed_sections": []
    },
    "kernelspec": {
      "name": "python3",
      "display_name": "Python 3"
    }
  },
  "cells": [
    {
      "cell_type": "code",
      "metadata": {
        "colab": {
          "base_uri": "https://localhost:8080/"
        },
        "id": "0Hw_FYVY9tnq",
        "outputId": "ca060f01-9fbe-41a4-84c3-f8bac66030ef"
      },
      "source": [
        "!apt install python3-libtorrent\r\n",
        " \r\n",
        "import libtorrent as lt\r\n",
        " \r\n",
        "ses = lt.session()\r\n",
        "ses.listen_on(6881, 6891)\r\n",
        "downloads = []"
      ],
      "execution_count": null,
      "outputs": [
        {
          "output_type": "stream",
          "text": [
            "Reading package lists... Done\n",
            "Building dependency tree       \n",
            "Reading state information... Done\n",
            "The following additional packages will be installed:\n",
            "  libtorrent-rasterbar9\n",
            "Suggested packages:\n",
            "  libtorrent-rasterbar-dbg\n",
            "The following NEW packages will be installed:\n",
            "  libtorrent-rasterbar9 python3-libtorrent\n",
            "0 upgraded, 2 newly installed, 0 to remove and 13 not upgraded.\n",
            "Need to get 1,569 kB of archives.\n",
            "After this operation, 5,718 kB of additional disk space will be used.\n",
            "Get:1 http://archive.ubuntu.com/ubuntu bionic/universe amd64 libtorrent-rasterbar9 amd64 1.1.5-1build1 [1,258 kB]\n",
            "Get:2 http://archive.ubuntu.com/ubuntu bionic/universe amd64 python3-libtorrent amd64 1.1.5-1build1 [310 kB]\n",
            "Fetched 1,569 kB in 1s (1,048 kB/s)\n",
            "Selecting previously unselected package libtorrent-rasterbar9.\n",
            "(Reading database ... 146374 files and directories currently installed.)\n",
            "Preparing to unpack .../libtorrent-rasterbar9_1.1.5-1build1_amd64.deb ...\n",
            "Unpacking libtorrent-rasterbar9 (1.1.5-1build1) ...\n",
            "Selecting previously unselected package python3-libtorrent.\n",
            "Preparing to unpack .../python3-libtorrent_1.1.5-1build1_amd64.deb ...\n",
            "Unpacking python3-libtorrent (1.1.5-1build1) ...\n",
            "Setting up libtorrent-rasterbar9 (1.1.5-1build1) ...\n",
            "Setting up python3-libtorrent (1.1.5-1build1) ...\n",
            "Processing triggers for libc-bin (2.27-3ubuntu1.3) ...\n",
            "/sbin/ldconfig.real: /usr/local/lib/python3.6/dist-packages/ideep4py/lib/libmkldnn.so.0 is not a symbolic link\n",
            "\n"
          ],
          "name": "stdout"
        }
      ]
    },
    {
      "cell_type": "code",
      "metadata": {
        "colab": {
          "base_uri": "https://localhost:8080/"
        },
        "id": "7MK3nUiq92v8",
        "outputId": "8538d565-8de0-46e3-b4e3-4e33d53d5ac3"
      },
      "source": [
        " \r\n",
        "from google.colab import drive\r\n",
        " \r\n",
        "drive.mount(\"/content/drive\")"
      ],
      "execution_count": null,
      "outputs": [
        {
          "output_type": "stream",
          "text": [
            "Drive already mounted at /content/drive; to attempt to forcibly remount, call drive.mount(\"/content/drive\", force_remount=True).\n"
          ],
          "name": "stdout"
        }
      ]
    },
    {
      "cell_type": "code",
      "metadata": {
        "colab": {
          "base_uri": "https://localhost:8080/"
        },
        "id": "5bRswgu094ZR",
        "outputId": "e37da17e-12ac-4f5b-c541-7f5095b2cbbb"
      },
      "source": [
        "params = {\"save_path\": \"/content/drive/Shareddrives/tdHackgence/Torrent\"}\r\n",
        " \r\n",
        "while True:\r\n",
        "    magnet_link = input(\"Enter Magnet Link Or Type Exit: \")\r\n",
        "    if magnet_link.lower() == \"exit\":\r\n",
        "        break\r\n",
        "    downloads.append(\r\n",
        "        lt.add_magnet_uri(ses, magnet_link, params)\r\n",
        "    )"
      ],
      "execution_count": null,
      "outputs": [
        {
          "output_type": "stream",
          "text": [
            "Enter Magnet Link Or Type Exit: magnet:?xt=urn:btih:36e9c70f418f35e6f2a67b9b77fdb040982cb058&dn=The+White+Tiger+%282021%29+%5B720p%5D+%5BBluRay%5D+%5BYTS.MX%5D\n",
            "Enter Magnet Link Or Type Exit: exit\n"
          ],
          "name": "stdout"
        }
      ]
    },
    {
      "cell_type": "code",
      "metadata": {
        "id": "4Bm1hsQJ-AbD"
      },
      "source": [
        "import time\r\n",
        "from IPython.display import display\r\n",
        "import ipywidgets as widgets\r\n",
        " \r\n",
        "name =''\r\n",
        "state_str = [\r\n",
        "    \"queued\",\r\n",
        "    \"checking\",\r\n",
        "    \"downloading metadata\",\r\n",
        "    \"downloading\",\r\n",
        "    \"finished\",\r\n",
        "    \"seeding\",\r\n",
        "    \"allocating\",\r\n",
        "    \"checking fastresume\",\r\n",
        "]\r\n",
        " \r\n",
        "layout = widgets.Layout(width=\"auto\")\r\n",
        "style = {\"description_width\": \"initial\"}\r\n",
        "download_bars = [\r\n",
        "    widgets.FloatSlider(\r\n",
        "        step=0.01, disabled=True, layout=layout, style=style\r\n",
        "    )\r\n",
        "    for _ in downloads\r\n",
        "]\r\n",
        "display(*download_bars)\r\n",
        " \r\n",
        "while downloads:\r\n",
        "    next_shift = 0\r\n",
        "    for index, download in enumerate(downloads[:]):\r\n",
        "        bar = download_bars[index + next_shift]\r\n",
        "        if not download.is_seed():\r\n",
        "            s = download.status()\r\n",
        " \r\n",
        "            bar.description = \" \".join(\r\n",
        "                [\r\n",
        "                    download.name(),\r\n",
        "                    str(s.download_rate / 1000),\r\n",
        "                    \"kB/s\",\r\n",
        "                    state_str[s.state],\r\n",
        "                ]\r\n",
        "            )\r\n",
        "            bar.value = s.progress * 100\r\n",
        "        else:\r\n",
        "            next_shift -= 1\r\n",
        "            ses.remove_torrent(download)\r\n",
        "            downloads.remove(download)\r\n",
        "            bar.close() # Seems to be not working in Colab (see https://github.com/googlecolab/colabtools/issues/726#issue-486731758)\r\n",
        "            download_bars.remove(bar)\r\n",
        "            name = download.name()\r\n",
        "            print(download.name(), \"complete\")\r\n",
        "    time.sleep(1)\r\n",
        " \r\n",
        " \r\n",
        "import requests\r\n",
        " \r\n",
        "\r\n",
        " \r\n",
        "print('Done uploading '+name+' To your google drive')\r\n"
      ],
      "execution_count": null,
      "outputs": []
    },
    {
      "cell_type": "code",
      "metadata": {
        "colab": {
          "base_uri": "https://localhost:8080/"
        },
        "id": "_po5q0UdMREo",
        "outputId": "1f1970a2-bd9e-4034-dbb7-f27f7685b400"
      },
      "source": [
        ""
      ],
      "execution_count": null,
      "outputs": [
        {
          "output_type": "execute_result",
          "data": {
            "text/plain": [
              "b'{\"ok\":false,\"error_code\":400,\"description\":\"Bad Request: can\\'t parse entities: Can\\'t find end of the entity starting at byte offset 82\"}'"
            ]
          },
          "metadata": {
            "tags": []
          },
          "execution_count": 9
        }
      ]
    },
    {
      "cell_type": "code",
      "metadata": {
        "id": "4LGm5wGJMTBq",
        "colab": {
          "base_uri": "https://localhost:8080/"
        },
        "outputId": "dc052d85-5427-4dd7-b926-1bdc1dff9078"
      },
      "source": [
        "\r\n"
      ],
      "execution_count": null,
      "outputs": [
        {
          "output_type": "stream",
          "text": [
            "drive  sample_data\n"
          ],
          "name": "stdout"
        }
      ]
    },
    {
      "cell_type": "code",
      "metadata": {
        "id": "XZNby2qapL-j"
      },
      "source": [
        ""
      ],
      "execution_count": null,
      "outputs": []
    }
  ]
}